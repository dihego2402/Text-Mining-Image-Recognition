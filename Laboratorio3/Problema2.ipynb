{
 "cells": [
  {
   "cell_type": "code",
   "execution_count": 2,
   "metadata": {},
   "outputs": [
    {
     "name": "stdout",
     "output_type": "stream",
     "text": [
      "Día promedio: 15.603333333333333\n",
      "Mes promedio: 6.463733333333334\n",
      "Año promedio: 2016.6815333333334\n"
     ]
    }
   ],
   "source": [
    "import os\n",
    "import re\n",
    "import pandas as pd\n",
    "\n",
    "# Expresión regular para capturar fechas en formato variado\n",
    "date_regex = r'(\\d{1,2})[\\/\\-.](\\d{1,2})[\\/\\-.](\\d{2,4})'\n",
    "\n",
    "days = []\n",
    "months = []\n",
    "years = []\n",
    "\n",
    "# Procesar cada archivo\n",
    "for i in range(1, 22):  # Asumiendo que los archivos son D1.txt hasta D21.txt\n",
    "    filename = f'D{i}.txt'\n",
    "    with open(filename, 'r') as file:\n",
    "        content = file.read()\n",
    "        matches = re.findall(date_regex, content)\n",
    "        for day, month, year in matches:\n",
    "            day = int(day)\n",
    "            month = int(month)\n",
    "            year = int(year) if len(year) == 4 else int('20' + year)\n",
    "            days.append(day)\n",
    "            months.append(month)\n",
    "            years.append(year)\n",
    "\n",
    "# Calcular el promedio de día, mes y año\n",
    "average_day = sum(days) / len(days)\n",
    "average_month = sum(months) / len(months)\n",
    "average_year = sum(years) / len(years)\n",
    "\n",
    "print(f\"Día promedio: {average_day}\")\n",
    "print(f\"Mes promedio: {average_month}\")\n",
    "print(f\"Año promedio: {average_year}\")"
   ]
  }
 ],
 "metadata": {
  "kernelspec": {
   "display_name": "Python 3",
   "language": "python",
   "name": "python3"
  },
  "language_info": {
   "codemirror_mode": {
    "name": "ipython",
    "version": 3
   },
   "file_extension": ".py",
   "mimetype": "text/x-python",
   "name": "python",
   "nbconvert_exporter": "python",
   "pygments_lexer": "ipython3",
   "version": "3.11.5"
  }
 },
 "nbformat": 4,
 "nbformat_minor": 2
}
