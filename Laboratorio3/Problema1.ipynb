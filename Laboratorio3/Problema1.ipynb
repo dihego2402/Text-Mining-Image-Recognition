{
 "cells": [
  {
   "cell_type": "code",
   "execution_count": 1,
   "metadata": {},
   "outputs": [
    {
     "name": "stdout",
     "output_type": "stream",
     "text": [
      "Correos válidos: ['Guate.360-porelmundo@miguate.com', 'Miercoles3@hotmail.com', 'Progra3.galileo@galileo.edu']\n"
     ]
    }
   ],
   "source": [
    "import re\n",
    "\n",
    "# Expresión regular para validar correos electrónicos\n",
    "email_regex = r'^[a-zA-Z0-9._%+-]+@[a-zA-Z0-9.-]+\\.[a-zA-Z]{2,}$'\n",
    "\n",
    "# Ejemplos de correos electrónicos\n",
    "emails = [\n",
    "    \"Guate.360-porelmundo@miguate.com\",\n",
    "    \"Miercoles3@hotmail.com\",\n",
    "    \"Progra3.galileo@galileo.edu\"\n",
    "]\n",
    "\n",
    "# Validación\n",
    "valid_emails = [email for email in emails if re.match(email_regex, email)]\n",
    "print(\"Correos válidos:\", valid_emails)\n"
   ]
  },
  {
   "cell_type": "code",
   "execution_count": 2,
   "metadata": {},
   "outputs": [
    {
     "name": "stdout",
     "output_type": "stream",
     "text": [
      "URLs válidas: ['https://www.guate360-porelmundo.com', 'https://www.galileo.edu', 'http://www.8.org']\n"
     ]
    }
   ],
   "source": [
    "# Expresión regular para validar URLs\n",
    "url_regex = r'^(http|https):\\/\\/www\\.[a-zA-Z0-9-]+\\.(com|org|edu)$'\n",
    "\n",
    "# Ejemplos de URLs\n",
    "urls = [\n",
    "    \"https://www.guate360-porelmundo.com\",\n",
    "    \"http://www.a2.net\",\n",
    "    \"https://www.galileo.edu\",\n",
    "    \"http://www.8.org\"\n",
    "]\n",
    "\n",
    "# Validación\n",
    "valid_urls = [url for url in urls if re.match(url_regex, url)]\n",
    "print(\"URLs válidas:\", valid_urls)\n"
   ]
  },
  {
   "cell_type": "code",
   "execution_count": 3,
   "metadata": {},
   "outputs": [
    {
     "name": "stdout",
     "output_type": "stream",
     "text": [
      "MACs válidas: ['5A 6F AF 8C 9B 1D', '6D 6C 4D 3A EB 3F']\n"
     ]
    }
   ],
   "source": [
    "# Expresión regular para validar MAC Address\n",
    "mac_regex = r'^([0-9A-F]{2} ){5}[0-9A-F]{2}$'\n",
    "\n",
    "# Ejemplos de MAC addresses\n",
    "mac_addresses = [\n",
    "    \"5A 6F AF 8C 9B 1D\",\n",
    "    \"6D 6C 4D 3A EB 3F\",\n",
    "    \"3A 7C FA C8 6D 4J\"\n",
    "]\n",
    "\n",
    "# Validación\n",
    "valid_macs = [mac for mac in mac_addresses if re.match(mac_regex, mac)]\n",
    "print(\"MACs válidas:\", valid_macs)\n"
   ]
  },
  {
   "cell_type": "code",
   "execution_count": 5,
   "metadata": {},
   "outputs": [
    {
     "name": "stdout",
     "output_type": "stream",
     "text": [
      "IPs válidas: ['192.16.8.1', '234.56.78.90', '1.2.3.4']\n"
     ]
    }
   ],
   "source": [
    "# Expresión regular para validar IPv4\n",
    "ipv4_regex = r'^((25[0-5]|2[0-4][0-9]|1[0-9]{2}|[1-9]?[0-9])\\.){3}(25[0-5]|2[0-4][0-9]|1[0-9]{2}|[1-9]?[0-9])$'\n",
    "\n",
    "# Ejemplos de direcciones IPv4\n",
    "ips = [\n",
    "    \"192.16.8.1\",\n",
    "    \"234.56.78.90\",\n",
    "    \"1.2.3.4\",\n",
    "    \"192.168.45.345\"\n",
    "]\n",
    "\n",
    "# Validación\n",
    "valid_ips = [ip for ip in ips if re.match(ipv4_regex, ip)]\n",
    "print(\"IPs válidas:\", valid_ips)"
   ]
  },
  {
   "cell_type": "code",
   "execution_count": 6,
   "metadata": {},
   "outputs": [
    {
     "name": "stdout",
     "output_type": "stream",
     "text": [
      "Fechas válidas: ['20/1/2019', '12.03.2005', '31-11-08', '1-1-2012']\n"
     ]
    }
   ],
   "source": [
    "# Expresión regular para validar fechas\n",
    "date_regex = r'^((0?[1-9]|[12][0-9]|3[01])[\\/\\-.](0?[1-9]|1[012])[\\/\\-.](200[0-9]|201[0-9])|(0?[1-9]|[12][0-9]|3[01])[\\/\\-.](0?[1-9]|1[012])[\\/\\-.](0[0-9]|1[0-9]))$'\n",
    "\n",
    "# Ejemplos de fechas\n",
    "dates = [\n",
    "    \"20/1/2019\",\n",
    "    \"12.03.2005\",\n",
    "    \"31-11-08\",\n",
    "    \"1-1-2012\",\n",
    "    \"12-12-22\"\n",
    "]\n",
    "\n",
    "# Validación\n",
    "valid_dates = [date for date in dates if re.match(date_regex, date)]\n",
    "print(\"Fechas válidas:\", valid_dates)"
   ]
  }
 ],
 "metadata": {
  "kernelspec": {
   "display_name": "Python 3",
   "language": "python",
   "name": "python3"
  },
  "language_info": {
   "codemirror_mode": {
    "name": "ipython",
    "version": 3
   },
   "file_extension": ".py",
   "mimetype": "text/x-python",
   "name": "python",
   "nbconvert_exporter": "python",
   "pygments_lexer": "ipython3",
   "version": "3.12.5"
  }
 },
 "nbformat": 4,
 "nbformat_minor": 2
}
